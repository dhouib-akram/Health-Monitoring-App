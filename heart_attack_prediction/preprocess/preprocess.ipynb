{
 "cells": [
  {
   "cell_type": "code",
   "execution_count": 1,
   "metadata": {},
   "outputs": [],
   "source": [
    "\n",
    "import pandas as pd\n",
    "from sklearn.preprocessing import LabelEncoder\n",
    "import joblib\n",
    "from sklearn import preprocessing\n",
    "def transform_user_data(user_df):\n",
    "    user_df = user_df.copy()\n",
    "        # Create age_bin and BMI_Class\n",
    "        \n",
    "    user_df['age_bin'] = pd.cut(user_df['age'], [0, 20, 30, 35, 40, 45, 50, 55, 60, 150], \n",
    "                                labels=['0-20', '20-30', '30-35', '35-40','40-45','45-50','50-55','55-60','60-65'])\n",
    "\n",
    "    user_df['bmi'] = user_df['weight'] / ((user_df['height'] / 100) ** 2)\n",
    "\n",
    "    rating = []\n",
    "    for row in user_df['bmi']:\n",
    "        if row < 18.5:\n",
    "            rating.append(1)  # UnderWeight\n",
    "        elif 18.5 <= row <= 24.9:\n",
    "            rating.append(2)  # NormalWeight\n",
    "        elif 25 <= row <= 29.9:\n",
    "            rating.append(3)  # OverWeight\n",
    "        elif 30 <= row <= 34.9:\n",
    "            rating.append(4)  # ClassObesity_1\n",
    "        elif 35 <= row <= 39.9:\n",
    "            rating.append(5)  # ClassObesity_2\n",
    "        elif 40 <= row <= 49.9:\n",
    "            rating.append(6)  # ClassObesity_3\n",
    "        elif row >= 50:\n",
    "            rating.append('Error')\n",
    "        else:\n",
    "            rating.append('Not_Rated')\n",
    "\n",
    "    user_df['BMI_Class'] = rating\n",
    "\n",
    "    # Calculate MAP and its corresponding class\n",
    "    user_df['MAP'] = ((2 * user_df['ap_lo']) + user_df['ap_hi']) / 3\n",
    "\n",
    "    map_values = []\n",
    "    for row in user_df['MAP']:\n",
    "        if row < 69.9:\n",
    "            map_values.append(1)  # Low\n",
    "        elif 70 <= row <= 79.9:\n",
    "            map_values.append(2)  # Normal\n",
    "        elif 80 <= row <= 89.9:\n",
    "            map_values.append(3)  # Normal\n",
    "        elif 90 <= row <= 99.9:\n",
    "            map_values.append(4)  # Normal\n",
    "        elif 100 <= row <= 109.9:\n",
    "            map_values.append(5)  # High\n",
    "        elif 110 <= row <= 119.9:\n",
    "            map_values.append(6)  # Normal\n",
    "        elif row >= 120:\n",
    "            map_values.append(7)\n",
    "        else:\n",
    "            map_values.append('Not_Rated')\n",
    "\n",
    "    user_df['MAP_Class'] = map_values\n",
    "\n",
    "    # Drop unnecessary columns\n",
    "    user_df=user_df[[\"gender\",\"height\",\"weight\",\"bmi\",\"ap_hi\",\"ap_lo\",\"MAP\",\"age\",\"age_bin\",\"BMI_Class\",\"MAP_Class\",\"cholesterol\",\"gluc\",\"smoke\",\"active\"]]\n",
    "    return user_df\n",
    "\n",
    "\n",
    "\n",
    "\n"
   ]
  },
  {
   "cell_type": "code",
   "execution_count": 2,
   "metadata": {},
   "outputs": [],
   "source": [
    "import warnings\n",
    "\n",
    "# Suppress SettingWithCopyWarning\n",
    "warnings.simplefilter(action='ignore', category=pd.errors.PerformanceWarning)"
   ]
  },
  {
   "cell_type": "code",
   "execution_count": 3,
   "metadata": {},
   "outputs": [],
   "source": [
    "def transform_cat(user_df):\n",
    "    user_df = user_df.copy()\n",
    "    user_cat = user_df[[\"gender\",\"age_bin\",\"BMI_Class\",\"MAP_Class\",\"cholesterol\",\"gluc\",\"smoke\",\"active\"]].copy()\n",
    "\n",
    "    # Mapping dictionaries for each feature\n",
    "    gender_mapping = {1: 0, 2: 1}\n",
    "    age_bin_mapping = {'20-30': 0, '35-40': 1, '40-45': 2, '45-50': 3, '50-55': 4, '55-60': 5, '60-65': 6}\n",
    "    BMI_Class_mapping = {1: 0, 2: 1, 3: 2, 4: 3, 5: 4, 6: 5}\n",
    "    MAP_Class_mapping = {2: 0, 3: 1, 4: 2, 5: 3, 6: 4, 7: 5}\n",
    "    cholesterol_mapping = {1: 0, 2: 1, 3: 2}\n",
    "    gluc_mapping = {1: 0, 2: 1, 3: 2}\n",
    "  # Apply the mapping to user_data\n",
    "    user_cat['gender'] = user_cat['gender'].map(gender_mapping)\n",
    "    user_cat['age_bin'] = user_cat['age_bin'].map(age_bin_mapping).astype(int)\n",
    "    user_cat['BMI_Class'] = user_cat['BMI_Class'].map(BMI_Class_mapping)\n",
    "    user_cat['MAP_Class'] = user_cat['MAP_Class'].map(MAP_Class_mapping)\n",
    "    user_cat['cholesterol'] = user_cat['cholesterol'].map(cholesterol_mapping)\n",
    "    user_cat['gluc'] = user_cat['gluc'].map(gluc_mapping)\n",
    "\n",
    "    return user_cat\n",
    "\n"
   ]
  },
  {
   "cell_type": "code",
   "execution_count": 4,
   "metadata": {},
   "outputs": [],
   "source": [
    "def apply_kmodes(user_cat):\n",
    "    if user_cat.iloc[0]['gender'] == 0:  # Male\n",
    "        kmodes_model_male = joblib.load('kmodes_model_male.joblib')\n",
    "        clusters_male = kmodes_model_male.predict(user_cat)\n",
    "        user_cat.insert(0, \"Cluster\", clusters_male, True)\n",
    "        user_cat[\"Cluster\"].replace({0: 2, 1: 3}, inplace=True)\n",
    "        print(user_cat.Cluster)\n",
    "        return user_cat\n",
    "    else:  # Female\n",
    "        kmodes_model_female = joblib.load('kmodes_model_female.joblib')\n",
    "        clusters_female = kmodes_model_female.predict(user_cat)\n",
    "        user_cat.insert(0, \"Cluster\", clusters_female, True)\n",
    "        return user_cat"
   ]
  },
  {
   "cell_type": "code",
   "execution_count": 6,
   "metadata": {},
   "outputs": [],
   "source": [
    "data=    {\n",
    "  \"age\": 54,\n",
    "  \"height\":168,\n",
    "  \"weight\": 62,\n",
    "  \"gender\": 2,\n",
    "  \"ap_hi\": 110,\n",
    "  \"ap_lo\": 80,\n",
    "  \"cholesterol\": 1,\n",
    "  \"gluc\": 1,\n",
    "  \"smoke\": 0,\n",
    "  \"alco\": 1,\n",
    "  \"active\": 0,\n",
    "\n",
    "}"
   ]
  },
  {
   "cell_type": "code",
   "execution_count": 7,
   "metadata": {},
   "outputs": [
    {
     "data": {
      "text/html": [
       "<div>\n",
       "<style scoped>\n",
       "    .dataframe tbody tr th:only-of-type {\n",
       "        vertical-align: middle;\n",
       "    }\n",
       "\n",
       "    .dataframe tbody tr th {\n",
       "        vertical-align: top;\n",
       "    }\n",
       "\n",
       "    .dataframe thead th {\n",
       "        text-align: right;\n",
       "    }\n",
       "</style>\n",
       "<table border=\"1\" class=\"dataframe\">\n",
       "  <thead>\n",
       "    <tr style=\"text-align: right;\">\n",
       "      <th></th>\n",
       "      <th>age</th>\n",
       "      <th>height</th>\n",
       "      <th>weight</th>\n",
       "      <th>gender</th>\n",
       "      <th>ap_hi</th>\n",
       "      <th>ap_lo</th>\n",
       "      <th>cholesterol</th>\n",
       "      <th>gluc</th>\n",
       "      <th>smoke</th>\n",
       "      <th>alco</th>\n",
       "      <th>active</th>\n",
       "    </tr>\n",
       "  </thead>\n",
       "  <tbody>\n",
       "    <tr>\n",
       "      <th>0</th>\n",
       "      <td>54</td>\n",
       "      <td>168</td>\n",
       "      <td>62</td>\n",
       "      <td>2</td>\n",
       "      <td>110</td>\n",
       "      <td>80</td>\n",
       "      <td>1</td>\n",
       "      <td>1</td>\n",
       "      <td>0</td>\n",
       "      <td>1</td>\n",
       "      <td>0</td>\n",
       "    </tr>\n",
       "  </tbody>\n",
       "</table>\n",
       "</div>"
      ],
      "text/plain": [
       "   age  height  weight  gender  ap_hi  ap_lo  cholesterol  gluc  smoke  alco  \\\n",
       "0   54     168      62       2    110     80            1     1      0     1   \n",
       "\n",
       "   active  \n",
       "0       0  "
      ]
     },
     "execution_count": 7,
     "metadata": {},
     "output_type": "execute_result"
    }
   ],
   "source": [
    "df=(pd.DataFrame([data]))\n",
    "df.head()\n"
   ]
  },
  {
   "cell_type": "code",
   "execution_count": 8,
   "metadata": {},
   "outputs": [
    {
     "data": {
      "text/html": [
       "<div>\n",
       "<style scoped>\n",
       "    .dataframe tbody tr th:only-of-type {\n",
       "        vertical-align: middle;\n",
       "    }\n",
       "\n",
       "    .dataframe tbody tr th {\n",
       "        vertical-align: top;\n",
       "    }\n",
       "\n",
       "    .dataframe thead th {\n",
       "        text-align: right;\n",
       "    }\n",
       "</style>\n",
       "<table border=\"1\" class=\"dataframe\">\n",
       "  <thead>\n",
       "    <tr style=\"text-align: right;\">\n",
       "      <th></th>\n",
       "      <th>gender</th>\n",
       "      <th>height</th>\n",
       "      <th>weight</th>\n",
       "      <th>bmi</th>\n",
       "      <th>ap_hi</th>\n",
       "      <th>ap_lo</th>\n",
       "      <th>MAP</th>\n",
       "      <th>age</th>\n",
       "      <th>age_bin</th>\n",
       "      <th>BMI_Class</th>\n",
       "      <th>MAP_Class</th>\n",
       "      <th>cholesterol</th>\n",
       "      <th>gluc</th>\n",
       "      <th>smoke</th>\n",
       "      <th>active</th>\n",
       "    </tr>\n",
       "  </thead>\n",
       "  <tbody>\n",
       "    <tr>\n",
       "      <th>0</th>\n",
       "      <td>2</td>\n",
       "      <td>168</td>\n",
       "      <td>62</td>\n",
       "      <td>21.96712</td>\n",
       "      <td>110</td>\n",
       "      <td>80</td>\n",
       "      <td>90.0</td>\n",
       "      <td>54</td>\n",
       "      <td>50-55</td>\n",
       "      <td>2</td>\n",
       "      <td>4</td>\n",
       "      <td>1</td>\n",
       "      <td>1</td>\n",
       "      <td>0</td>\n",
       "      <td>0</td>\n",
       "    </tr>\n",
       "  </tbody>\n",
       "</table>\n",
       "</div>"
      ],
      "text/plain": [
       "   gender  height  weight       bmi  ap_hi  ap_lo   MAP  age age_bin  \\\n",
       "0       2     168      62  21.96712    110     80  90.0   54   50-55   \n",
       "\n",
       "   BMI_Class  MAP_Class  cholesterol  gluc  smoke  active  \n",
       "0          2          4            1     1      0       0  "
      ]
     },
     "execution_count": 8,
     "metadata": {},
     "output_type": "execute_result"
    }
   ],
   "source": [
    "df=transform_user_data(df)\n",
    "df.head()"
   ]
  },
  {
   "cell_type": "code",
   "execution_count": 9,
   "metadata": {},
   "outputs": [
    {
     "data": {
      "text/html": [
       "<div>\n",
       "<style scoped>\n",
       "    .dataframe tbody tr th:only-of-type {\n",
       "        vertical-align: middle;\n",
       "    }\n",
       "\n",
       "    .dataframe tbody tr th {\n",
       "        vertical-align: top;\n",
       "    }\n",
       "\n",
       "    .dataframe thead th {\n",
       "        text-align: right;\n",
       "    }\n",
       "</style>\n",
       "<table border=\"1\" class=\"dataframe\">\n",
       "  <thead>\n",
       "    <tr style=\"text-align: right;\">\n",
       "      <th></th>\n",
       "      <th>gender</th>\n",
       "      <th>age_bin</th>\n",
       "      <th>BMI_Class</th>\n",
       "      <th>MAP_Class</th>\n",
       "      <th>cholesterol</th>\n",
       "      <th>gluc</th>\n",
       "      <th>smoke</th>\n",
       "      <th>active</th>\n",
       "    </tr>\n",
       "  </thead>\n",
       "  <tbody>\n",
       "    <tr>\n",
       "      <th>0</th>\n",
       "      <td>1</td>\n",
       "      <td>4</td>\n",
       "      <td>1</td>\n",
       "      <td>2</td>\n",
       "      <td>0</td>\n",
       "      <td>0</td>\n",
       "      <td>0</td>\n",
       "      <td>0</td>\n",
       "    </tr>\n",
       "  </tbody>\n",
       "</table>\n",
       "</div>"
      ],
      "text/plain": [
       "   gender  age_bin  BMI_Class  MAP_Class  cholesterol  gluc  smoke  active\n",
       "0       1        4          1          2            0     0      0       0"
      ]
     },
     "execution_count": 9,
     "metadata": {},
     "output_type": "execute_result"
    }
   ],
   "source": [
    "df_cat=transform_cat(df)\n",
    "df_cat.head()"
   ]
  },
  {
   "cell_type": "code",
   "execution_count": 10,
   "metadata": {},
   "outputs": [
    {
     "data": {
      "text/html": [
       "<div>\n",
       "<style scoped>\n",
       "    .dataframe tbody tr th:only-of-type {\n",
       "        vertical-align: middle;\n",
       "    }\n",
       "\n",
       "    .dataframe tbody tr th {\n",
       "        vertical-align: top;\n",
       "    }\n",
       "\n",
       "    .dataframe thead th {\n",
       "        text-align: right;\n",
       "    }\n",
       "</style>\n",
       "<table border=\"1\" class=\"dataframe\">\n",
       "  <thead>\n",
       "    <tr style=\"text-align: right;\">\n",
       "      <th></th>\n",
       "      <th>Cluster</th>\n",
       "      <th>gender</th>\n",
       "      <th>age_bin</th>\n",
       "      <th>BMI_Class</th>\n",
       "      <th>MAP_Class</th>\n",
       "      <th>cholesterol</th>\n",
       "      <th>gluc</th>\n",
       "      <th>smoke</th>\n",
       "      <th>active</th>\n",
       "    </tr>\n",
       "  </thead>\n",
       "  <tbody>\n",
       "    <tr>\n",
       "      <th>0</th>\n",
       "      <td>0</td>\n",
       "      <td>1</td>\n",
       "      <td>4</td>\n",
       "      <td>1</td>\n",
       "      <td>2</td>\n",
       "      <td>0</td>\n",
       "      <td>0</td>\n",
       "      <td>0</td>\n",
       "      <td>0</td>\n",
       "    </tr>\n",
       "  </tbody>\n",
       "</table>\n",
       "</div>"
      ],
      "text/plain": [
       "   Cluster  gender  age_bin  BMI_Class  MAP_Class  cholesterol  gluc  smoke  \\\n",
       "0        0       1        4          1          2            0     0      0   \n",
       "\n",
       "   active  \n",
       "0       0  "
      ]
     },
     "execution_count": 10,
     "metadata": {},
     "output_type": "execute_result"
    }
   ],
   "source": [
    "df_cat=apply_kmodes(df_cat)\n",
    "df_cat.head()"
   ]
  },
  {
   "cell_type": "code",
   "execution_count": 11,
   "metadata": {},
   "outputs": [
    {
     "name": "stdout",
     "output_type": "stream",
     "text": [
      "<class 'pandas.core.frame.DataFrame'>\n",
      "RangeIndex: 1 entries, 0 to 0\n",
      "Data columns (total 9 columns):\n",
      " #   Column       Non-Null Count  Dtype \n",
      "---  ------       --------------  ----- \n",
      " 0   Cluster      1 non-null      uint16\n",
      " 1   gender       1 non-null      int64 \n",
      " 2   age_bin      1 non-null      int32 \n",
      " 3   BMI_Class    1 non-null      int64 \n",
      " 4   MAP_Class    1 non-null      int64 \n",
      " 5   cholesterol  1 non-null      int64 \n",
      " 6   gluc         1 non-null      int64 \n",
      " 7   smoke        1 non-null      int64 \n",
      " 8   active       1 non-null      int64 \n",
      "dtypes: int32(1), int64(7), uint16(1)\n",
      "memory usage: 190.0 bytes\n"
     ]
    }
   ],
   "source": [
    "df_cat.info()"
   ]
  },
  {
   "cell_type": "code",
   "execution_count": 12,
   "metadata": {},
   "outputs": [],
   "source": [
    "loaded_rf_model = joblib.load('rf_model_73.joblib')"
   ]
  },
  {
   "cell_type": "code",
   "execution_count": 13,
   "metadata": {},
   "outputs": [],
   "source": [
    "predictions = loaded_rf_model.predict(df_cat)\n"
   ]
  },
  {
   "cell_type": "code",
   "execution_count": 14,
   "metadata": {},
   "outputs": [
    {
     "data": {
      "text/plain": [
       "array([0], dtype=int64)"
      ]
     },
     "execution_count": 14,
     "metadata": {},
     "output_type": "execute_result"
    }
   ],
   "source": [
    "predictions"
   ]
  },
  {
   "cell_type": "code",
   "execution_count": 15,
   "metadata": {},
   "outputs": [],
   "source": [
    "def preprocess_data(data):\n",
    "    df = pd.DataFrame([data])\n",
    "    df = transform_user_data(df)\n",
    "    df_cat = transform_cat(df)\n",
    "    df_cat = apply_kmodes(df_cat)\n",
    "    return df_cat"
   ]
  },
  {
   "cell_type": "code",
   "execution_count": 16,
   "metadata": {},
   "outputs": [
    {
     "data": {
      "text/html": [
       "<div>\n",
       "<style scoped>\n",
       "    .dataframe tbody tr th:only-of-type {\n",
       "        vertical-align: middle;\n",
       "    }\n",
       "\n",
       "    .dataframe tbody tr th {\n",
       "        vertical-align: top;\n",
       "    }\n",
       "\n",
       "    .dataframe thead th {\n",
       "        text-align: right;\n",
       "    }\n",
       "</style>\n",
       "<table border=\"1\" class=\"dataframe\">\n",
       "  <thead>\n",
       "    <tr style=\"text-align: right;\">\n",
       "      <th></th>\n",
       "      <th>Cluster</th>\n",
       "      <th>gender</th>\n",
       "      <th>age_bin</th>\n",
       "      <th>BMI_Class</th>\n",
       "      <th>MAP_Class</th>\n",
       "      <th>cholesterol</th>\n",
       "      <th>gluc</th>\n",
       "      <th>smoke</th>\n",
       "      <th>active</th>\n",
       "    </tr>\n",
       "  </thead>\n",
       "  <tbody>\n",
       "    <tr>\n",
       "      <th>0</th>\n",
       "      <td>0</td>\n",
       "      <td>1</td>\n",
       "      <td>4</td>\n",
       "      <td>1</td>\n",
       "      <td>2</td>\n",
       "      <td>0</td>\n",
       "      <td>0</td>\n",
       "      <td>0</td>\n",
       "      <td>0</td>\n",
       "    </tr>\n",
       "  </tbody>\n",
       "</table>\n",
       "</div>"
      ],
      "text/plain": [
       "   Cluster  gender  age_bin  BMI_Class  MAP_Class  cholesterol  gluc  smoke  \\\n",
       "0        0       1        4          1          2            0     0      0   \n",
       "\n",
       "   active  \n",
       "0       0  "
      ]
     },
     "execution_count": 16,
     "metadata": {},
     "output_type": "execute_result"
    }
   ],
   "source": [
    "preprocess_data(data).head()"
   ]
  },
  {
   "cell_type": "code",
   "execution_count": 113,
   "metadata": {},
   "outputs": [],
   "source": [
    "data=    {\n",
    "  \"age\": 70,\n",
    "  \"height\":160,\n",
    "  \"weight\": 100,\n",
    "  \"gender\": 2,\n",
    "  \"ap_hi\": 120,\n",
    "  \"ap_lo\": 80,\n",
    "  \"cholesterol\": 2,\n",
    "  \"gluc\": 2,\n",
    "  \"smoke\": 1,\n",
    "  \"alco\": 1,\n",
    "  \"active\": 0,\n",
    "\n",
    "}\n",
    "predictions = loaded_rf_model.predict(preprocess_data(data))\n"
   ]
  },
  {
   "cell_type": "code",
   "execution_count": 87,
   "metadata": {},
   "outputs": [
    {
     "data": {
      "text/plain": [
       "array([1], dtype=int64)"
      ]
     },
     "execution_count": 87,
     "metadata": {},
     "output_type": "execute_result"
    }
   ],
   "source": [
    "predictions"
   ]
  },
  {
   "cell_type": "code",
   "execution_count": 6,
   "metadata": {},
   "outputs": [
    {
     "data": {
      "text/plain": [
       "array([1], dtype=int64)"
      ]
     },
     "execution_count": 6,
     "metadata": {},
     "output_type": "execute_result"
    }
   ],
   "source": [
    "import joblib\n",
    "loaded_rf_model = joblib.load('rf_model_73.joblib') \n",
    "data={\n",
    "  \"age\": 70,\n",
    "  \"height\":160,\n",
    "  \"weight\": 100,\n",
    "  \"gender\": 2,\n",
    "  \"ap_hi\": 120,\n",
    "  \"ap_lo\": 80,\n",
    "  \"cholesterol\": 2,\n",
    "  \"gluc\": 2,\n",
    "  \"smoke\": 1,\n",
    "  \"alco\": 1,\n",
    "  \"active\": 0,\n",
    "\n",
    "}\n",
    "from preprocess_data import preprocess_data\n",
    "predictions = loaded_rf_model.predict(preprocess_data(data))\n",
    "predictions\n"
   ]
  },
  {
   "cell_type": "code",
   "execution_count": 5,
   "metadata": {},
   "outputs": [
    {
     "data": {
      "text/plain": [
       "array([1], dtype=int64)"
      ]
     },
     "execution_count": 5,
     "metadata": {},
     "output_type": "execute_result"
    }
   ],
   "source": [
    "predictions"
   ]
  },
  {
   "cell_type": "code",
   "execution_count": null,
   "metadata": {},
   "outputs": [],
   "source": []
  }
 ],
 "metadata": {
  "kernelspec": {
   "display_name": "health",
   "language": "python",
   "name": "python3"
  },
  "language_info": {
   "codemirror_mode": {
    "name": "ipython",
    "version": 3
   },
   "file_extension": ".py",
   "mimetype": "text/x-python",
   "name": "python",
   "nbconvert_exporter": "python",
   "pygments_lexer": "ipython3",
   "version": "3.9.0"
  }
 },
 "nbformat": 4,
 "nbformat_minor": 2
}
